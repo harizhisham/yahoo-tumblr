{
 "cells": [
  {
   "cell_type": "markdown",
   "metadata": {},
   "source": [
    "## Yahoo!'s Acquisition of Tumblr: Replicating a failure"
   ]
  },
  {
   "cell_type": "markdown",
   "metadata": {},
   "source": [
    "_Author: Hariz Mohd Rani Hisham_"
   ]
  },
  {
   "cell_type": "markdown",
   "metadata": {},
   "source": [
    "As the title above suggests, we all know where this acquisition is headed. Tumblr today is analogous of an antiquated Internet era MySpace and Blogspot.<br>\n",
    "<br>\n",
    "However, before we jump the gun and call out Yahoo! for pulling a corporate fumble, let's put ourselves in the shoes of Yahoo! executives and attempt to reproduce their decision-making process to the best of available knowledge. After all, this is data __*science*__, and any rigorous scientific study should be measureable and replicable.<br>\n",
    "<br>\n",
    "We'll be exploring data provided to us by the good people at Darden (UVA) and come up with a classic valuation model towards the end of the notebook to determine if Tumblr <s>is</s> was a good buy. I'll provide commentary along the way.<br>\n",
    "<br>\n",
    "Now that the stage has been set, in true Tumblr fashion, I present to you an opening GIF:"
   ]
  },
  {
   "cell_type": "markdown",
   "metadata": {},
   "source": [
    "![Intro](https://mondrian.mashable.com/2013%252F05%252F19%252Ff8%252Ftumblr_mn0m.67844.gif%252Ffit-in__1200x9600.gif?signature=H1lhkwcId8PB8MTAIo3A_ETblcQ=)<br>\n",
    "\n",
    "<div style=\"text-align: center\"> <i>Yahoo! shows up to your door at 3AM, WWYD?</i> </div>"
   ]
  },
  {
   "cell_type": "code",
   "execution_count": 1,
   "metadata": {},
   "outputs": [
    {
     "name": "stdout",
     "output_type": "stream",
     "text": [
      "Populating the interactive namespace from numpy and matplotlib\n"
     ]
    }
   ],
   "source": [
    "%pylab inline\n",
    "import pandas as pd\n",
    "import statsmodels.api as sm\n",
    "from statsmodels.regression.linear_model import OLS as linear\n",
    "from statsmodels.tsa.api import ExponentialSmoothing, SimpleExpSmoothing, Holt"
   ]
  },
  {
   "cell_type": "code",
   "execution_count": 2,
   "metadata": {},
   "outputs": [],
   "source": [
    "# thanks\n",
    "import os,sys\n",
    "module_path = os.path.abspath(os.path.join('C:/Users/mohdh/Documents/MSBA/Time Series/modules/'))\n",
    "if module_path not in sys.path:\n",
    "    sys.path.append(module_path)\n",
    "import boxcox"
   ]
  },
  {
   "cell_type": "code",
   "execution_count": 3,
   "metadata": {},
   "outputs": [],
   "source": [
    "path = 'C:/Users/mohdh/Documents/GitHub/yahoo-tumblr'  # <YOUR PATH>\n",
    "fn = '/Spreadsheet Supplement.csv'  # <YOUR FILENAME>"
   ]
  },
  {
   "cell_type": "markdown",
   "metadata": {},
   "source": [
    "__FUNctions__"
   ]
  },
  {
   "cell_type": "code",
   "execution_count": 4,
   "metadata": {
    "jupyter": {
     "source_hidden": true
    }
   },
   "outputs": [],
   "source": [
    "####\n",
    "# Input: text chunk extracted from file\n",
    "#\n",
    "# Output: List of tuples containing values of records\n",
    "#\n",
    "# Where used: read_file() function\n",
    "####\n",
    "def row_split(cont):\n",
    "    measurements = None\n",
    "    try:\n",
    "        rows = cont.split('\\n')\n",
    "        rows = rows[:-1]\n",
    "        measurements = [tuple(x.split(',')) for x in rows]\n",
    "        return measurements\n",
    "    except:\n",
    "        print(\"Check that file contents are gucci!\")\n",
    "        \n",
    "def read_file(path, filename):\n",
    "    try:\n",
    "        with open(path + filename, 'r') as f:\n",
    "            cont = f.read()\n",
    "\n",
    "        list_of_tuples = row_split(cont)\n",
    "\n",
    "        return pd.DataFrame(list_of_tuples[1:], columns = list_of_tuples[0])\n",
    "    except:\n",
    "        print('Error encountered when reading in file.')"
   ]
  },
  {
   "cell_type": "markdown",
   "metadata": {},
   "source": [
    "__Inital data load__"
   ]
  },
  {
   "cell_type": "code",
   "execution_count": 5,
   "metadata": {},
   "outputs": [],
   "source": [
    "df = read_file(path, fn)\n",
    "df = df.rename(columns = {'ï»¿People Worldwide' : 'People Worldwide'})"
   ]
  },
  {
   "cell_type": "markdown",
   "metadata": {},
   "source": [
    "__Data exploration__"
   ]
  },
  {
   "cell_type": "markdown",
   "metadata": {},
   "source": [
    "For the 2 graphs below, global users are in blue and US users are in orange:"
   ]
  },
  {
   "cell_type": "markdown",
   "metadata": {},
   "source": [
    "Absolute user growth over time"
   ]
  },
  {
   "cell_type": "code",
   "execution_count": 6,
   "metadata": {},
   "outputs": [
    {
     "data": {
      "image/png": "[encoded data removed]",
      "text/plain": [
       "<Figure size 432x288 with 1 Axes>"
      ]
     },
     "metadata": {
      "needs_background": "light"
     },
     "output_type": "display_data"
    }
   ],
   "source": [
    "X = np.array(df.index).tolist()\n",
    "y1 = df['People Worldwide'].astype('int')\n",
    "y2 = df['People US'].astype('int')\n",
    "\n",
    "plt.plot(X, y1, y2)\n",
    "plt.show()"
   ]
  },
  {
   "cell_type": "markdown",
   "metadata": {},
   "source": [
    "It looks like US user growth is flatlining in later years. We might have to apply a log transformation to validate if that's true."
   ]
  },
  {
   "cell_type": "markdown",
   "metadata": {},
   "source": [
    "Logarithmic user growth over time"
   ]
  },
  {
   "cell_type": "code",
   "execution_count": 7,
   "metadata": {},
   "outputs": [
    {
     "data": {
      "image/png": "[encoded data removed]",
      "text/plain": [
       "<Figure size 432x288 with 1 Axes>"
      ]
     },
     "metadata": {
      "needs_background": "light"
     },
     "output_type": "display_data"
    }
   ],
   "source": [
    "X_log = np.array(df.index).tolist()\n",
    "y1_log = log(df['People Worldwide'].astype('int'))\n",
    "y2_log = log(df['People US'].astype('int'))\n",
    "\n",
    "plt.plot(X_log, y1_log, y2_log)\n",
    "plt.show()"
   ]
  },
  {
   "cell_type": "markdown",
   "metadata": {},
   "source": [
    "After applying a log-transform, it looks like US users are growing at the same rate as the rest of the world."
   ]
  },
  {
   "cell_type": "markdown",
   "metadata": {},
   "source": [
    "__Q1 It DOES NOT go to infinity__"
   ]
  },
  {
   "cell_type": "code",
   "execution_count": 8,
   "metadata": {},
   "outputs": [],
   "source": [
    "from datetime import datetime\n",
    "\n",
    "####\n",
    "# Source: https://stackoverflow.com/questions/4039879/best-way-to-find-the-months-between-two-dates\n",
    "# Args: two dates in datetime() format\n",
    "# \n",
    "# Output: number of months in between dates provided\n",
    "####\n",
    "def diff_month(d1, d2):\n",
    "    return (d1.year - d2.year) * 12 + d1.month - d2.month"
   ]
  },
  {
   "cell_type": "code",
   "execution_count": 9,
   "metadata": {},
   "outputs": [],
   "source": [
    "y1 = df['People Worldwide'].astype('int')"
   ]
  },
  {
   "cell_type": "code",
   "execution_count": 10,
   "metadata": {},
   "outputs": [],
   "source": [
    "res = (y1.tolist()[-1] / y1.tolist()[0]) ** (1/len(y1))"
   ]
  },
  {
   "cell_type": "code",
   "execution_count": 11,
   "metadata": {},
   "outputs": [],
   "source": [
    "temp_res = [y1.tolist()[-1]]\n",
    "fac = res\n",
    "\n",
    "for i in range(diff_month(datetime(2022,12,31), datetime(2013,5,31))):\n",
    "    if i % 6 == 0:\n",
    "        fac = fac * 0.99\n",
    "    temp_res.append(temp_res[-1] * fac)"
   ]
  },
  {
   "cell_type": "code",
   "execution_count": 12,
   "metadata": {},
   "outputs": [
    {
     "data": {
      "image/png": "[encoded data removed]",
      "text/plain": [
       "<Figure size 432x288 with 1 Axes>"
      ]
     },
     "metadata": {
      "needs_background": "light"
     },
     "output_type": "display_data"
    }
   ],
   "source": [
    "plt.plot(temp_res)\n",
    "plt.show()"
   ]
  },
  {
   "cell_type": "markdown",
   "metadata": {},
   "source": [
    "__Log growth approach__"
   ]
  },
  {
   "cell_type": "code",
   "execution_count": 13,
   "metadata": {},
   "outputs": [],
   "source": [
    "wood = (log(y1.tolist()[-1]) - log(y1.tolist()[0])) / len(y1)"
   ]
  },
  {
   "cell_type": "code",
   "execution_count": 14,
   "metadata": {},
   "outputs": [],
   "source": [
    "temp_res = [log(y1.tolist()[-1])]\n",
    "fac = wood\n",
    "\n",
    "for i in range(115):\n",
    "    temp_res.append(temp_res[-1] + wood)"
   ]
  },
  {
   "cell_type": "code",
   "execution_count": 15,
   "metadata": {},
   "outputs": [
    {
     "data": {
      "image/png": "[encoded data removed]",
      "text/plain": [
       "<Figure size 432x288 with 1 Axes>"
      ]
     },
     "metadata": {
      "needs_background": "light"
     },
     "output_type": "display_data"
    }
   ],
   "source": [
    "chop = [exp(x) for x in temp_res]\n",
    "\n",
    "plt.plot(chop)\n",
    "plt.show()"
   ]
  },
  {
   "cell_type": "markdown",
   "metadata": {},
   "source": [
    "If we assume Tumblr will keep growing its global user base at the average 38-month growth rate, the site will have 53 billion active users.<br>\n",
    "\n",
    "This obviously makes no sense, given that there are only 7 billion people in the world, and roughly 1/3 of that are children below 18 y.o. age."
   ]
  },
  {
   "cell_type": "markdown",
   "metadata": {},
   "source": [
    "__Q1 To infinity... and beyond!__"
   ]
  },
  {
   "cell_type": "code",
   "execution_count": 20,
   "metadata": {},
   "outputs": [
    {
     "data": {
      "text/plain": [
       "0.0547280078606732"
      ]
     },
     "execution_count": 20,
     "metadata": {},
     "output_type": "execute_result"
    }
   ],
   "source": [
    "calculate_amg(y1, len(y1))"
   ]
  },
  {
   "cell_type": "code",
   "execution_count": 17,
   "metadata": {},
   "outputs": [
    {
     "data": {
      "text/plain": [
       "4.704247370952116"
      ]
     },
     "execution_count": 17,
     "metadata": {},
     "output_type": "execute_result"
    }
   ],
   "source": [
    "(y1.iloc[-1] - y1.iloc[0]) ** (1/12)"
   ]
  },
  {
   "cell_type": "markdown",
   "metadata": {},
   "source": [
    "__Q2 Getting over the hype__"
   ]
  },
  {
   "cell_type": "markdown",
   "metadata": {},
   "source": [
    "Recall that the average monthly growth rate over the past 37 months = "
   ]
  },
  {
   "cell_type": "code",
   "execution_count": 18,
   "metadata": {},
   "outputs": [
    {
     "data": {
      "text/plain": [
       "0.051854908744751516"
      ]
     },
     "execution_count": 18,
     "metadata": {},
     "output_type": "execute_result"
    }
   ],
   "source": [
    "aag = 0\n",
    "\n",
    "for i in range(len(y1)):\n",
    "    if (i == 0) or (i+1 == 38):\n",
    "        continue\n",
    "\n",
    "    aag += ((y1[i+1] / y1[i]) - 1)\n",
    "    \n",
    "aag / len(y1)"
   ]
  },
  {
   "cell_type": "code",
   "execution_count": 19,
   "metadata": {},
   "outputs": [],
   "source": [
    "def calculate_amg(series, lookback_n, message = False):\n",
    "    try:\n",
    "        ret = []\n",
    "        mon_g_total = 0\n",
    "        start_idx = len(series) - lookback_n\n",
    "        end_idx = len(series)\n",
    "\n",
    "        for i in range(start_idx, end_idx):\n",
    "            if (i == 0) or (i == (end_idx)):\n",
    "                continue\n",
    "\n",
    "            mon_g_total += ((series[i] / series[i-1]) - 1)\n",
    "            ret.append(i)\n",
    "            \n",
    "        amg = mon_g_total / len(series)\n",
    "        \n",
    "        output = amg\n",
    "        \n",
    "        if message:\n",
    "            output = 'Avg. monthly growth rate for last ' + str(lookback_n) + ' mths: ' + str(amg)\n",
    "\n",
    "        return output #, ret\n",
    "    except:\n",
    "        print('Check yoself before you wreck yoself.')"
   ]
  },
  {
   "cell_type": "code",
   "execution_count": 21,
   "metadata": {},
   "outputs": [
    {
     "ename": "TypeError",
     "evalue": "cannot unpack non-iterable numpy.float64 object",
     "output_type": "error",
     "traceback": [
      "\u001b[1;31m---------------------------------------------------------------------------\u001b[0m",
      "\u001b[1;31mTypeError\u001b[0m                                 Traceback (most recent call last)",
      "\u001b[1;32m<ipython-input-21-ac58fe27ceda>\u001b[0m in \u001b[0;36m<module>\u001b[1;34m\u001b[0m\n\u001b[1;32m----> 1\u001b[1;33m \u001b[0mout\u001b[0m\u001b[1;33m,\u001b[0m \u001b[0mls\u001b[0m \u001b[1;33m=\u001b[0m \u001b[0mcalculate_amg\u001b[0m\u001b[1;33m(\u001b[0m\u001b[0my1\u001b[0m\u001b[1;33m,\u001b[0m \u001b[1;36m38\u001b[0m\u001b[1;33m)\u001b[0m\u001b[1;33m\u001b[0m\u001b[1;33m\u001b[0m\u001b[0m\n\u001b[0m",
      "\u001b[1;31mTypeError\u001b[0m: cannot unpack non-iterable numpy.float64 object"
     ]
    }
   ],
   "source": [
    "out, ls = calculate_amg(y1, 38)"
   ]
  },
  {
   "cell_type": "code",
   "execution_count": 22,
   "metadata": {},
   "outputs": [
    {
     "ename": "NameError",
     "evalue": "name 'ls' is not defined",
     "output_type": "error",
     "traceback": [
      "\u001b[1;31m---------------------------------------------------------------------------\u001b[0m",
      "\u001b[1;31mNameError\u001b[0m                                 Traceback (most recent call last)",
      "\u001b[1;32m<ipython-input-22-84d6c6ab994a>\u001b[0m in \u001b[0;36m<module>\u001b[1;34m\u001b[0m\n\u001b[1;32m----> 1\u001b[1;33m \u001b[0mlen\u001b[0m\u001b[1;33m(\u001b[0m\u001b[0mls\u001b[0m\u001b[1;33m)\u001b[0m\u001b[1;33m\u001b[0m\u001b[1;33m\u001b[0m\u001b[0m\n\u001b[0m",
      "\u001b[1;31mNameError\u001b[0m: name 'ls' is not defined"
     ]
    }
   ],
   "source": [
    "len(ls)"
   ]
  },
  {
   "cell_type": "code",
   "execution_count": 23,
   "metadata": {},
   "outputs": [
    {
     "data": {
      "text/plain": [
       "'Avg. monthly growth rate for last 38 mths: 0.0547280078606732'"
      ]
     },
     "execution_count": 23,
     "metadata": {},
     "output_type": "execute_result"
    }
   ],
   "source": [
    "calculate_amg(y1, 38, True)"
   ]
  },
  {
   "cell_type": "code",
   "execution_count": 24,
   "metadata": {},
   "outputs": [
    {
     "data": {
      "text/plain": [
       "'Avg. monthly growth rate for last 12 mths: 0.005119372067678348'"
      ]
     },
     "execution_count": 24,
     "metadata": {},
     "output_type": "execute_result"
    }
   ],
   "source": [
    "calculate_amg(y1, 12, True)"
   ]
  },
  {
   "cell_type": "markdown",
   "metadata": {},
   "source": [
    "__Q3 Smooth operator... smoo-oo-ooth operator__"
   ]
  },
  {
   "cell_type": "markdown",
   "metadata": {},
   "source": [
    "Boxcox"
   ]
  },
  {
   "cell_type": "code",
   "execution_count": 25,
   "metadata": {},
   "outputs": [
    {
     "name": "stdout",
     "output_type": "stream",
     "text": [
      "Sampling       :  26 / 38\n",
      "Box Cox lambda : 0.30729741915317116\n"
     ]
    },
    {
     "data": {
      "image/png": "[encoded data removed]",
      "text/plain": [
       "<Figure size 432x288 with 2 Axes>"
      ]
     },
     "metadata": {
      "needs_background": "light"
     },
     "output_type": "display_data"
    },
    {
     "name": "stdout",
     "output_type": "stream",
     "text": [
      "\n",
      "Box Cox Transform lambda : 0.307297\n",
      "+---------+-------------------+--------------------+---------------------+\n",
      "|   data  |        mean       |       st_dev       |     std to mean     |\n",
      "+---------+-------------------+--------------------+---------------------+\n",
      "|   Raw   | 60953419.84615385 | 31039970.525462862 |  0.5092408367538295 |\n",
      "| Box Cox | 775.6004264408741 | 131.89185733697073 | 0.17005129553912793 |\n",
      "+---------+-------------------+--------------------+---------------------+\n"
     ]
    }
   ],
   "source": [
    "bc = boxcox.BoxCox(y1, test_size=.3)\n",
    "bc.plot()"
   ]
  },
  {
   "cell_type": "code",
   "execution_count": 26,
   "metadata": {
    "scrolled": true
   },
   "outputs": [
    {
     "data": {
      "text/plain": [
       "Text(0.5, 1.0, 'Air Passengers\\nBox Cox (lambda=0.3073)')"
      ]
     },
     "execution_count": 26,
     "metadata": {},
     "output_type": "execute_result"
    },
    {
     "data": {
      "image/png": "[encoded data removed]",
      "text/plain": [
       "<Figure size 432x288 with 1 Axes>"
      ]
     },
     "metadata": {
      "needs_background": "light"
     },
     "output_type": "display_data"
    }
   ],
   "source": [
    "plt.plot(bc.Y)\n",
    "plt.title('Air Passengers\\nBox Cox (lambda=%6.4f)' % bc.lbda)"
   ]
  },
  {
   "cell_type": "markdown",
   "metadata": {},
   "source": [
    "##### Fitting models to the data:"
   ]
  },
  {
   "cell_type": "code",
   "execution_count": 27,
   "metadata": {},
   "outputs": [],
   "source": [
    "y2 = pd.DataFrame(bc.Y)[0]"
   ]
  },
  {
   "cell_type": "code",
   "execution_count": 28,
   "metadata": {},
   "outputs": [
    {
     "data": {
      "image/png": "[encoded data removed]",
      "text/plain": [
       "<Figure size 864x576 with 1 Axes>"
      ]
     },
     "metadata": {
      "needs_background": "light"
     },
     "output_type": "display_data"
    }
   ],
   "source": [
    "# adapted from https://www.statsmodels.org/dev/examples/notebooks/generated/exponential_smoothing.html\n",
    "\n",
    "fit1 = Holt(y1).fit(smoothing_level=0.8, smoothing_slope=0.2, optimized=False)\n",
    "fcast1 = fit1.forecast(12).rename(\"Holt's linear trend\")\n",
    "fit2 = Holt(y1, exponential=True).fit(smoothing_level=0.8, smoothing_slope=0.2, optimized=False)\n",
    "fcast2 = fit2.forecast(12).rename(\"Exponential trend\")\n",
    "fit3 = Holt(y1, exponential=True, damped=True).fit(smoothing_level=0.8, smoothing_slope=0.2)\n",
    "fcast3 = fit3.forecast(12).rename(\"Multiplicative damped trend\")\n",
    "\n",
    "ax = y1.plot(color=\"black\", figsize=(12,8))\n",
    "fit1.fittedvalues.plot(ax=ax, color='blue')\n",
    "fcast1.plot(ax=ax, color='blue', marker=\"o\", legend=True)\n",
    "fit2.fittedvalues.plot(ax=ax, color='red')\n",
    "fcast2.plot(ax=ax, color='red', marker=\"o\", legend=True)\n",
    "fit3.fittedvalues.plot(ax=ax, color='green')\n",
    "fcast3.plot(ax=ax, color='green', marker=\"o\", legend=True)\n",
    "\n",
    "plt.show()"
   ]
  },
  {
   "cell_type": "markdown",
   "metadata": {},
   "source": [
    "![itsalive](https://media.giphy.com/media/UqUJhrD0om73q/giphy.gif)<br>\n",
    "\n",
    "<div style=\"text-align: center\"> <i>My actual reaction to the above output</i> </div>"
   ]
  },
  {
   "cell_type": "markdown",
   "metadata": {},
   "source": [
    "Let's look at the root mean squared errors (RMSE) for each of these models:"
   ]
  },
  {
   "cell_type": "code",
   "execution_count": 29,
   "metadata": {},
   "outputs": [
    {
     "name": "stdout",
     "output_type": "stream",
     "text": [
      "RMSE Linear: 4958041.49\n",
      "RMSE Exponential: 5399986.27\n",
      "RMSE Multiplicative Damped: 4880251.54\n"
     ]
    }
   ],
   "source": [
    "from sklearn.metrics import mean_squared_error\n",
    "\n",
    "rmse1 = sqrt(mean_squared_error(fit1.fittedvalues, y1))\n",
    "rmse2 = sqrt(mean_squared_error(fit2.fittedvalues, y1))\n",
    "rmse3 = sqrt(mean_squared_error(fit3.fittedvalues, y1))\n",
    "print('RMSE Linear: %.2f' % rmse1)\n",
    "print('RMSE Exponential: %.2f' % rmse2)\n",
    "print('RMSE Multiplicative Damped: %.2f' % rmse3)"
   ]
  },
  {
   "cell_type": "markdown",
   "metadata": {},
   "source": [
    "After comparing the RMSE across the 3 models, the Multiplicative Damped Trend Model gave us the lowest RMSE, indicating that this model fitted our data best. Downstream, we will use this model to estimate cash flows."
   ]
  },
  {
   "cell_type": "markdown",
   "metadata": {},
   "source": [
    "__Q4 Cloudy with a Chance of Diminishing Returns__"
   ]
  },
  {
   "cell_type": "code",
   "execution_count": 30,
   "metadata": {},
   "outputs": [
    {
     "data": {
      "image/png": "[encoded data removed]",
      "text/plain": [
       "<Figure size 864x576 with 1 Axes>"
      ]
     },
     "metadata": {
      "needs_background": "light"
     },
     "output_type": "display_data"
    }
   ],
   "source": [
    "fit1 = Holt(y1).fit(smoothing_level=0.8, smoothing_slope=0.2, optimized=False)\n",
    "fcast1 = fit1.forecast(115).rename(\"Holt's linear trend\")\n",
    "fit2 = Holt(y1, exponential=True).fit(smoothing_level=0.8, smoothing_slope=0.2, optimized=False)\n",
    "fcast2 = fit2.forecast(115).rename(\"Exponential trend\")\n",
    "fit3 = Holt(y1, exponential=True, damped=True).fit(smoothing_level=0.8, smoothing_slope=0.2)\n",
    "fcast3 = fit3.forecast(115).rename(\"Multiplicative damped trend\")\n",
    "\n",
    "ax = y1.plot(color=\"black\", figsize=(12,8))\n",
    "fit1.fittedvalues.plot(ax=ax, color='blue')\n",
    "fcast1.plot(ax=ax, color='blue', marker=\"o\", legend=True)\n",
    "fit2.fittedvalues.plot(ax=ax, color='red')\n",
    "fcast2.plot(ax=ax, color='red', marker=\"o\", legend=True)\n",
    "fit3.fittedvalues.plot(ax=ax, color='green')\n",
    "fcast3.plot(ax=ax, color='green', marker=\"o\", legend=True)\n",
    "\n",
    "plt.show()"
   ]
  },
  {
   "cell_type": "markdown",
   "metadata": {},
   "source": [
    "Outstanding. Why didn't they teach us this math in high school?\n",
    "\n",
    "![Wow](https://media.giphy.com/media/BmmfETghGOPrW/giphy.gif)<br>\n",
    "\n",
    "<div style=\"text-align: center\"> <i>My brain when I ran the cell above</i> </div>"
   ]
  },
  {
   "cell_type": "markdown",
   "metadata": {},
   "source": [
    "Since we applied a BoxCox transformation to our data, we'll have to first undo the transformation to retrieve the forecasts for the next 115 months."
   ]
  },
  {
   "cell_type": "markdown",
   "metadata": {},
   "source": [
    "__Q5 Money matters__"
   ]
  },
  {
   "cell_type": "code",
   "execution_count": 31,
   "metadata": {},
   "outputs": [
    {
     "data": {
      "text/plain": [
       "0.01518475735799596"
      ]
     },
     "execution_count": 31,
     "metadata": {},
     "output_type": "execute_result"
    }
   ],
   "source": [
    "(list(y1)[-1] / list(y1)[-13]) ** (1/12) - 1"
   ]
  },
  {
   "cell_type": "code",
   "execution_count": 32,
   "metadata": {},
   "outputs": [],
   "source": [
    "'''\n",
    "Arguments: annual cash flows, no. of periods, anualized rate of return\n",
    "\n",
    "Where used: Here, and only here\n",
    "\n",
    "Output: scalar value of discounted cash flow valuation\n",
    "'''\n",
    "def dcf(cash_flows, periods, rate):\n",
    "    assert type(periods) == int\n",
    "    assert type(rate) == float\n",
    "    assert len(cash_flows) == periods\n",
    "    try:\n",
    "        dcf = 0\n",
    "        yr = 0\n",
    "        for i in range(len(cash_flows)):\n",
    "            dcf = cash_flows[i] / ((1 + rate) ** i+1)\n",
    "        return dcf\n",
    "    except:\n",
    "        print('DCF calculation failure.')"
   ]
  },
  {
   "cell_type": "code",
   "execution_count": 33,
   "metadata": {},
   "outputs": [],
   "source": [
    "ww_growth = 0.0152\n",
    "us_decline = 0.0167\n",
    "p2u_equiv = 2.0\n",
    "us_rue_inc = 0.30\n",
    "ww_rue_inc = 0.03\n",
    "cash_margin = 0.317\n",
    "eng_mult = 4.5\n",
    "r = 0.1\n",
    "g = 0.03"
   ]
  },
  {
   "cell_type": "code",
   "execution_count": 34,
   "metadata": {},
   "outputs": [],
   "source": [
    "fcast = fcast3.reset_index(drop = True)"
   ]
  },
  {
   "cell_type": "markdown",
   "metadata": {},
   "source": [
    "Custom script to create year range"
   ]
  },
  {
   "cell_type": "code",
   "execution_count": 35,
   "metadata": {},
   "outputs": [],
   "source": [
    "years = []\n",
    "start_yr = 2013\n",
    "end_yr = 2022\n",
    "ranj = end_yr - start_yr\n",
    "for i in range(len(fcast)):\n",
    "    if start_yr == end_yr:\n",
    "        continue\n",
    "    if i < 7:\n",
    "        years.append(start_yr)\n",
    "    else:\n",
    "        for j in range(12):\n",
    "            years.append(start_yr+1)\n",
    "        start_yr += 1"
   ]
  },
  {
   "cell_type": "code",
   "execution_count": 36,
   "metadata": {},
   "outputs": [
    {
     "data": {
      "text/plain": [
       "0      1.368485e+08\n",
       "1      1.367384e+08\n",
       "2      1.366392e+08\n",
       "3      1.365497e+08\n",
       "4      1.364690e+08\n",
       "           ...     \n",
       "110    1.357267e+08\n",
       "111    1.357267e+08\n",
       "112    1.357267e+08\n",
       "113    1.357267e+08\n",
       "114    1.357267e+08\n",
       "Name: Multiplicative damped trend, Length: 115, dtype: float64"
      ]
     },
     "execution_count": 36,
     "metadata": {},
     "output_type": "execute_result"
    }
   ],
   "source": [
    "fcast"
   ]
  },
  {
   "cell_type": "code",
   "execution_count": 37,
   "metadata": {},
   "outputs": [],
   "source": [
    "ppl_ww_fcast = pd.concat([fcast,pd.Series(years)], axis = 1).rename(columns = {'Additive damped trend' : 'Users',\n",
    "                                                                               0 : 'Year'})"
   ]
  },
  {
   "cell_type": "code",
   "execution_count": 38,
   "metadata": {},
   "outputs": [],
   "source": [
    "tbl = ppl_ww_fcast.groupby('Year').mean().reset_index(drop = False).copy()"
   ]
  },
  {
   "cell_type": "code",
   "execution_count": 39,
   "metadata": {},
   "outputs": [
    {
     "data": {
      "text/html": [
       "<div>\n",
       "<style scoped>\n",
       "    .dataframe tbody tr th:only-of-type {\n",
       "        vertical-align: middle;\n",
       "    }\n",
       "\n",
       "    .dataframe tbody tr th {\n",
       "        vertical-align: top;\n",
       "    }\n",
       "\n",
       "    .dataframe thead th {\n",
       "        text-align: right;\n",
       "    }\n",
       "</style>\n",
       "<table border=\"1\" class=\"dataframe\">\n",
       "  <thead>\n",
       "    <tr style=\"text-align: right;\">\n",
       "      <th></th>\n",
       "      <th>Year</th>\n",
       "      <th>Multiplicative damped trend</th>\n",
       "    </tr>\n",
       "  </thead>\n",
       "  <tbody>\n",
       "    <tr>\n",
       "      <td>0</td>\n",
       "      <td>2013</td>\n",
       "      <td>1.365674e+08</td>\n",
       "    </tr>\n",
       "    <tr>\n",
       "      <td>1</td>\n",
       "      <td>2014</td>\n",
       "      <td>1.360558e+08</td>\n",
       "    </tr>\n",
       "    <tr>\n",
       "      <td>2</td>\n",
       "      <td>2015</td>\n",
       "      <td>1.358223e+08</td>\n",
       "    </tr>\n",
       "    <tr>\n",
       "      <td>3</td>\n",
       "      <td>2016</td>\n",
       "      <td>1.357545e+08</td>\n",
       "    </tr>\n",
       "    <tr>\n",
       "      <td>4</td>\n",
       "      <td>2017</td>\n",
       "      <td>1.357348e+08</td>\n",
       "    </tr>\n",
       "    <tr>\n",
       "      <td>5</td>\n",
       "      <td>2018</td>\n",
       "      <td>1.357290e+08</td>\n",
       "    </tr>\n",
       "    <tr>\n",
       "      <td>6</td>\n",
       "      <td>2019</td>\n",
       "      <td>1.357274e+08</td>\n",
       "    </tr>\n",
       "    <tr>\n",
       "      <td>7</td>\n",
       "      <td>2020</td>\n",
       "      <td>1.357269e+08</td>\n",
       "    </tr>\n",
       "    <tr>\n",
       "      <td>8</td>\n",
       "      <td>2021</td>\n",
       "      <td>1.357267e+08</td>\n",
       "    </tr>\n",
       "    <tr>\n",
       "      <td>9</td>\n",
       "      <td>2022</td>\n",
       "      <td>1.357267e+08</td>\n",
       "    </tr>\n",
       "  </tbody>\n",
       "</table>\n",
       "</div>"
      ],
      "text/plain": [
       "   Year  Multiplicative damped trend\n",
       "0  2013                 1.365674e+08\n",
       "1  2014                 1.360558e+08\n",
       "2  2015                 1.358223e+08\n",
       "3  2016                 1.357545e+08\n",
       "4  2017                 1.357348e+08\n",
       "5  2018                 1.357290e+08\n",
       "6  2019                 1.357274e+08\n",
       "7  2020                 1.357269e+08\n",
       "8  2021                 1.357267e+08\n",
       "9  2022                 1.357267e+08"
      ]
     },
     "execution_count": 39,
     "metadata": {},
     "output_type": "execute_result"
    }
   ],
   "source": [
    "tbl"
   ]
  },
  {
   "cell_type": "code",
   "execution_count": 40,
   "metadata": {},
   "outputs": [
    {
     "name": "stdout",
     "output_type": "stream",
     "text": [
      "40095267.40747\n"
     ]
    }
   ],
   "source": [
    "ww13 = np.mean(fcast[:7])\n",
    "pct_us = 0.33\n",
    "us_ppl = pct_us * ww13\n",
    "row_ppl = ww13 - us_ppl\n",
    "ue_us = us_ppl / p2u_equiv\n",
    "ue_row = row_ppl / p2u_equiv\n",
    "revenue = (ue_us * 13.58 + ue_row * 3.21) / eng_mult * 7/12\n",
    "opex = revenue * cash_margin\n",
    "cf = revenue - opex\n",
    "print(str(cf))"
   ]
  },
  {
   "cell_type": "markdown",
   "metadata": {},
   "source": []
  },
  {
   "cell_type": "code",
   "execution_count": null,
   "metadata": {},
   "outputs": [],
   "source": []
  },
  {
   "cell_type": "markdown",
   "metadata": {},
   "source": [
    "__Conclusion__"
   ]
  },
  {
   "cell_type": "markdown",
   "metadata": {},
   "source": [
    "So should Yahoo! have bought Tumblr after all? In true Tumblr GIF fashion, here's my verdict:"
   ]
  },
  {
   "cell_type": "markdown",
   "metadata": {},
   "source": [
    "![Decision](https://mondrian.mashable.com/2013%252F05%252F19%252Ff8%252Ftumblr_mn0m.0feaf.gif%252Ffit-in__1200x9600.gif?signature=S68Hf3LNEs7MPtxehff0ToYVwhw=)"
   ]
  },
  {
   "cell_type": "markdown",
   "metadata": {},
   "source": [
    "__Introducing lagged variables__"
   ]
  },
  {
   "cell_type": "markdown",
   "metadata": {},
   "source": [
    "Below is a nifty function to create lag variables very quickly:"
   ]
  },
  {
   "cell_type": "code",
   "execution_count": null,
   "metadata": {},
   "outputs": [],
   "source": [
    "def lag_variables(series, n, prefix = ''):\n",
    "    ####\n",
    "    # Input: series, n = number of lags\n",
    "    # \n",
    "    # Output: list of tuples containing lag variables\n",
    "    #\n",
    "    # Downstream: to be added into main dataframe component for \n",
    "    #             further analysis / manipulation\n",
    "    ####\n",
    "    import pandas as pd\n",
    "    assert n > 0\n",
    "    try:\n",
    "        temp_list = []\n",
    "        col_d = {}\n",
    "        for i in range(n):\n",
    "            temp_list.append(tuple(series.shift(i + 1).tolist()))\n",
    "            key = i\n",
    "            col_name = 'lag' + str(i+1)\n",
    "            \n",
    "            if len(prefix) > 0:\n",
    "                to_append = str(prefix) + '_'\n",
    "                col_name = to_append + col_name\n",
    "            \n",
    "            if key not in col_d:\n",
    "                col_d[i] = col_name\n",
    "                \n",
    "        df = pd.DataFrame(temp_list).transpose().rename(columns = col_d)\n",
    "        \n",
    "        return df\n",
    "    except:\n",
    "        print('Something went wrong when lagging variables.')\n",
    "    "
   ]
  },
  {
   "cell_type": "code",
   "execution_count": null,
   "metadata": {},
   "outputs": [],
   "source": []
  }
 ],
 "metadata": {
  "kernelspec": {
   "display_name": "Python 3",
   "language": "python",
   "name": "python3"
  },
  "language_info": {
   "codemirror_mode": {
    "name": "ipython",
    "version": 3
   },
   "file_extension": ".py",
   "mimetype": "text/x-python",
   "name": "python",
   "nbconvert_exporter": "python",
   "pygments_lexer": "ipython3",
   "version": "3.7.4"
  }
 },
 "nbformat": 4,
 "nbformat_minor": 4
}
