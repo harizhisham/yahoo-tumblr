{
 "cells": [
  {
   "cell_type": "markdown",
   "metadata": {},
   "source": [
    "## Yahoo!'s Acquisition of Tumblr: Replicating a failure"
   ]
  },
  {
   "cell_type": "markdown",
   "metadata": {},
   "source": [
    "_Author: Hariz Mohd Rani Hisham_"
   ]
  },
  {
   "cell_type": "markdown",
   "metadata": {},
   "source": [
    "As the title above suggests, we all know where this acquisition is headed. Tumblr today is analogous of an antiquated Internet era MySpace and Blogspot.<br>\n",
    "<br>\n",
    "However, before we jump the gun and call out Yahoo! for pulling a corporate fumble, let's put ourselves in the shoes of Yahoo! executives and attempt to reproduce their decision-making process to the best of available knowledge. After all, this is data __*science*__, and any rigorous scientific study should be measureable and replicable.<br>\n",
    "<br>\n",
    "We'll be exploring data provided to us by the good people at Darden (UVA) and come up with a classic valuation model towards the end of the notebook to determine if Tumblr <s>is</s> was a good buy. I'll provide commentary along the way.<br>\n",
    "<br>\n",
    "Now that the stage has been set, in true Tumblr fashion, I present to you an opening GIF:"
   ]
  },
  {
   "cell_type": "markdown",
   "metadata": {},
   "source": [
    "![Intro](https://mondrian.mashable.com/2013%252F05%252F19%252Ff8%252Ftumblr_mn0m.67844.gif%252Ffit-in__1200x9600.gif?signature=H1lhkwcId8PB8MTAIo3A_ETblcQ=)<br>\n",
    "\n",
    "<div style=\"text-align: center\"> <i>Yahoo! shows up to your door at 3AM, WWYD?</i> </div>"
   ]
  },
  {
   "cell_type": "code",
   "execution_count": 1,
   "metadata": {},
   "outputs": [
    {
     "name": "stdout",
     "output_type": "stream",
     "text": [
      "Populating the interactive namespace from numpy and matplotlib\n"
     ]
    }
   ],
   "source": [
    "%pylab inline\n",
    "import pandas as pd\n",
    "import statsmodels.api as sm\n",
    "from statsmodels.regression.linear_model import OLS as linear\n",
    "from statsmodels.tsa.api import ExponentialSmoothing, SimpleExpSmoothing, Holt"
   ]
  },
  {
   "cell_type": "code",
   "execution_count": 2,
   "metadata": {},
   "outputs": [],
   "source": [
    "# thanks\n",
    "import os,sys\n",
    "module_path = os.path.abspath(os.path.join('C:/Users/mohdh/Documents/MSBA/Time Series/modules/'))\n",
    "if module_path not in sys.path:\n",
    "    sys.path.append(module_path)\n",
    "import boxcox"
   ]
  },
  {
   "cell_type": "code",
   "execution_count": 3,
   "metadata": {},
   "outputs": [],
   "source": [
    "path = 'C:/Users/mohdh/Documents/GitHub/yahoo-tumblr'  # <YOUR PATH>\n",
    "fn = '/Spreadsheet Supplement.csv'  # <YOUR FILENAME>"
   ]
  },
  {
   "cell_type": "markdown",
   "metadata": {},
   "source": [
    "__FUNctions__"
   ]
  },
  {
   "cell_type": "code",
   "execution_count": 4,
   "metadata": {
    "jupyter": {
     "source_hidden": true
    }
   },
   "outputs": [],
   "source": [
    "####\n",
    "# Input: text chunk extracted from file\n",
    "#\n",
    "# Output: List of tuples containing values of records\n",
    "#\n",
    "# Where used: read_file() function\n",
    "####\n",
    "def row_split(cont):\n",
    "    measurements = None\n",
    "    try:\n",
    "        rows = cont.split('\\n')\n",
    "        rows = rows[:-1]\n",
    "        measurements = [tuple(x.split(',')) for x in rows]\n",
    "        return measurements\n",
    "    except:\n",
    "        print(\"Check that file contents are gucci!\")\n",
    "        \n",
    "def read_file(path, filename):\n",
    "    try:\n",
    "        with open(path + filename, 'r') as f:\n",
    "            cont = f.read()\n",
    "\n",
    "        list_of_tuples = row_split(cont)\n",
    "\n",
    "        return pd.DataFrame(list_of_tuples[1:], columns = list_of_tuples[0])\n",
    "    except:\n",
    "        print('Error encountered when reading in file.')"
   ]
  },
  {
   "cell_type": "markdown",
   "metadata": {},
   "source": [
    "__Inital data load__"
   ]
  },
  {
   "cell_type": "code",
   "execution_count": 5,
   "metadata": {},
   "outputs": [],
   "source": [
    "df = read_file(path, fn)\n",
    "df = df.rename(columns = {'ï»¿People Worldwide' : 'People Worldwide'})"
   ]
  },
  {
   "cell_type": "markdown",
   "metadata": {},
   "source": [
    "__Data exploration__"
   ]
  },
  {
   "cell_type": "code",
   "execution_count": 25,
   "metadata": {},
   "outputs": [],
   "source": [
    "'''\n",
    "Arguments: dataframe, boolean switch to enable log-transform\n",
    "\n",
    "Output: chart output of raw data\n",
    "'''\n",
    "def plot_raw_data(data, logarithmic = False):\n",
    "    try:\n",
    "        X = np.array(data.index).tolist()\n",
    "        y1 = data.iloc[:,0].astype('int')\n",
    "        y2 = data.iloc[:,1].astype('int')\n",
    "        \n",
    "        if logarithmic:\n",
    "            y1, y2 = log(y1), log(y2)\n",
    "\n",
    "        plt.plot(X,y1,y2)\n",
    "        return plt.show()\n",
    "    except:\n",
    "        print('The limit does not exist when plotting the data.')"
   ]
  },
  {
   "cell_type": "markdown",
   "metadata": {},
   "source": [
    "For the 2 graphs below, global users are in blue and US users are in orange:"
   ]
  },
  {
   "cell_type": "markdown",
   "metadata": {},
   "source": [
    "Absolute user growth over time"
   ]
  },
  {
   "cell_type": "code",
   "execution_count": 15,
   "metadata": {},
   "outputs": [
    {
     "data": {
      "image/png": "[encoded data removed]",
      "text/plain": [
       "<Figure size 432x288 with 1 Axes>"
      ]
     },
     "metadata": {
      "needs_background": "light"
     },
     "output_type": "display_data"
    }
   ],
   "source": [
    "plot_raw_data(df)"
   ]
  },
  {
   "cell_type": "markdown",
   "metadata": {},
   "source": [
    "It looks like US user growth is flatlining in later years. We might have to apply a log transformation to validate if that's true."
   ]
  },
  {
   "cell_type": "markdown",
   "metadata": {},
   "source": [
    "Logarithmic user growth over time"
   ]
  },
  {
   "cell_type": "code",
   "execution_count": 24,
   "metadata": {},
   "outputs": [
    {
     "data": {
      "image/png": "[encoded data removed]",
      "text/plain": [
       "<Figure size 432x288 with 1 Axes>"
      ]
     },
     "metadata": {
      "needs_background": "light"
     },
     "output_type": "display_data"
    }
   ],
   "source": [
    "plot_raw_data(df, logarithmic = True)"
   ]
  },
  {
   "cell_type": "markdown",
   "metadata": {},
   "source": [
    "After applying a log-transform, it looks like US users are growing at the same rate as the rest of the world."
   ]
  },
  {
   "cell_type": "markdown",
   "metadata": {},
   "source": [
    "__Q1 To infinity... and beyond!__"
   ]
  },
  {
   "cell_type": "code",
   "execution_count": 26,
   "metadata": {},
   "outputs": [],
   "source": [
    "from datetime import datetime\n",
    "\n",
    "####\n",
    "# Source: https://stackoverflow.com/questions/4039879/best-way-to-find-the-months-between-two-dates\n",
    "# Args: two dates in datetime() format\n",
    "# \n",
    "# Output: number of months in between dates provided\n",
    "####\n",
    "def diff_month(d1, d2):\n",
    "    return (d1.year - d2.year) * 12 + d1.month - d2.month"
   ]
  },
  {
   "cell_type": "code",
   "execution_count": 63,
   "metadata": {},
   "outputs": [],
   "source": [
    "def calculate_amg(series, lookback_n, message = False):\n",
    "    try:\n",
    "        #ret = []\n",
    "        mon_g_total = 0\n",
    "        start_idx = len(series) - lookback_n\n",
    "        end_idx = len(series)\n",
    "\n",
    "        for i in range(start_idx, end_idx):\n",
    "            if (i == 0) or (i == (end_idx)):\n",
    "                continue\n",
    "\n",
    "            mon_g_total += ((series[i] / series[i-1]) - 1)\n",
    "            #ret.append(i)\n",
    "            \n",
    "        amg = mon_g_total / len(series)\n",
    "        output = amg\n",
    "        \n",
    "        if message:\n",
    "            output = 'Avg. monthly growth rate for last ' + str(lookback_n) + ' mths: %.4f' % amg + '%'\n",
    "            return print(output)\n",
    "        \n",
    "        return output\n",
    "    except:\n",
    "        print('Check yoself before you wreck yoself.')"
   ]
  },
  {
   "cell_type": "code",
   "execution_count": 27,
   "metadata": {},
   "outputs": [],
   "source": [
    "y1 = df['People Worldwide'].astype('int')"
   ]
  },
  {
   "cell_type": "code",
   "execution_count": 64,
   "metadata": {},
   "outputs": [
    {
     "name": "stdout",
     "output_type": "stream",
     "text": [
      "Avg. monthly growth rate for last 38 mths: 0.0547%\n"
     ]
    }
   ],
   "source": [
    "calculate_amg(y1, len(y1), message = True)"
   ]
  },
  {
   "cell_type": "code",
   "execution_count": 117,
   "metadata": {},
   "outputs": [],
   "source": [
    "'''\n",
    "Args: initial value, monthly growth rate, start year & month,\n",
    "      end year & month, switch for chart\n",
    "\n",
    "Output: n-month monthly user forecast, optional chart\n",
    "'''\n",
    "def average_forecast(most_recent_value,\n",
    "                     growth_rate, \n",
    "                     start_yr, start_mth, end_yr, end_mth, \n",
    "                     chart = False):\n",
    "    from datetime import datetime\n",
    "    assert type(start_yr) == int\n",
    "    assert type(start_mth) == int\n",
    "    assert type(end_yr) == int\n",
    "    assert type(end_mth) == int\n",
    "    assert start_yr < end_yr\n",
    "    try:\n",
    "        lookfwd = diff_month(datetime(end_yr,end_mth,31), datetime(start_yr,start_mth,31))\n",
    "        avg_forecast = most_recent_value * ((1+growth_rate) ** lookfwd)\n",
    "        \n",
    "        if chart:\n",
    "            run = []\n",
    "            current_val = most_recent_value\n",
    "            for i in range(lookfwd):\n",
    "                current_val = round(current_val * (1 + growth_rate),0)\n",
    "                run.append(current_val)\n",
    "                \n",
    "            plt.plot(run)\n",
    "            return plt.show()  \n",
    "\n",
    "        return print('Projected Worldwide monthly users @ ' + str(end_mth) +\\\n",
    "                     '-' + str(end_yr) + ': %.0f' % avg_forecast)\n",
    "    except:\n",
    "        print('The forecast can\\'t be calculated.')"
   ]
  },
  {
   "cell_type": "code",
   "execution_count": 118,
   "metadata": {},
   "outputs": [
    {
     "name": "stdout",
     "output_type": "stream",
     "text": [
      "Projected Worldwide monthly users @ 12-2022: 62548570881\n"
     ]
    },
    {
     "data": {
      "image/png": "[encoded data removed]",
      "text/plain": [
       "<Figure size 432x288 with 1 Axes>"
      ]
     },
     "metadata": {
      "needs_background": "light"
     },
     "output_type": "display_data"
    }
   ],
   "source": [
    "g = calculate_amg(y1, len(y1))\n",
    "most_recent = list(df['People Worldwide'].astype('int'))[-1]\n",
    "\n",
    "average_forecast(most_recent, g, 2013,5,2022,12)\n",
    "average_forecast(most_recent, g, 2013,5,2022,12, True)"
   ]
  },
  {
   "cell_type": "markdown",
   "metadata": {},
   "source": [
    "Hot dog. That's some mighty fine 10-year forecast. At this rate, Tumblr would have every living person as an active user, plus their children, and their children's children!<br>\n",
    "\n",
    "If we assume Tumblr to keep growing at the average 38-month growth rate, the site will have __62 billion active users__.<br>\n",
    "\n",
    "Is it realistic though?"
   ]
  },
  {
   "cell_type": "markdown",
   "metadata": {},
   "source": [
    "![Mean](https://media.giphy.com/media/dSxmun8CA7TdS/giphy.gif)<br>\n",
    "\n",
    "<div style=\"text-align: center\"> <i>Not so fast, Cady</i> </div>"
   ]
  },
  {
   "cell_type": "markdown",
   "metadata": {},
   "source": [
    "__Q2 Getting over the hype__"
   ]
  },
  {
   "cell_type": "markdown",
   "metadata": {},
   "source": [
    "Recall that the average monthly growth rate over the past 38 months ~= 5.4%"
   ]
  },
  {
   "cell_type": "code",
   "execution_count": 127,
   "metadata": {},
   "outputs": [
    {
     "name": "stdout",
     "output_type": "stream",
     "text": [
      "Avg. monthly growth rate for last 38 mths: 0.0547%\n",
      "Avg. monthly growth rate for last 12 mths: 0.0051%\n"
     ]
    }
   ],
   "source": [
    "calculate_amg(y1, 38, True)\n",
    "calculate_amg(y1, 12, True)"
   ]
  },
  {
   "cell_type": "markdown",
   "metadata": {},
   "source": [
    "Average monthly growth in the last 12 months as sharply decrease to 0.5%.<br>\n",
    "<br>\n",
    "Hold up, so you're telling me we're not growing as quickly as when we were popular???"
   ]
  },
  {
   "cell_type": "markdown",
   "metadata": {},
   "source": [
    "__Q3 Smooth operator... smoo-oo-ooth operator__"
   ]
  },
  {
   "cell_type": "markdown",
   "metadata": {},
   "source": [
    "Boxcox\n",
    "\n",
    "Adapted from Dan Trepanier, _3.1 Stochastic Processes_"
   ]
  },
  {
   "cell_type": "code",
   "execution_count": 128,
   "metadata": {},
   "outputs": [
    {
     "name": "stdout",
     "output_type": "stream",
     "text": [
      "Sampling       :  26 / 38\n",
      "Box Cox lambda : 0.30729741915317116\n"
     ]
    },
    {
     "data": {
      "image/png": "[encoded data removed]",
      "text/plain": [
       "<Figure size 432x288 with 2 Axes>"
      ]
     },
     "metadata": {
      "needs_background": "light"
     },
     "output_type": "display_data"
    },
    {
     "name": "stdout",
     "output_type": "stream",
     "text": [
      "\n",
      "Box Cox Transform lambda : 0.307297\n",
      "+---------+-------------------+--------------------+---------------------+\n",
      "|   data  |        mean       |       st_dev       |     std to mean     |\n",
      "+---------+-------------------+--------------------+---------------------+\n",
      "|   Raw   | 60953419.84615385 | 31039970.525462862 |  0.5092408367538295 |\n",
      "| Box Cox | 775.6004264408741 | 131.89185733697073 | 0.17005129553912793 |\n",
      "+---------+-------------------+--------------------+---------------------+\n"
     ]
    }
   ],
   "source": [
    "bc = boxcox.BoxCox(y1, test_size=.3)\n",
    "bc.plot()"
   ]
  },
  {
   "cell_type": "code",
   "execution_count": 149,
   "metadata": {},
   "outputs": [
    {
     "data": {
      "image/png": "[encoded data removed]",
      "text/plain": [
       "<Figure size 432x288 with 1 Axes>"
      ]
     },
     "metadata": {
      "needs_background": "light"
     },
     "output_type": "display_data"
    }
   ],
   "source": [
    "plt.plot(bc.Y)\n",
    "plt.title('Tumblr Monthly Users, Worldwide\\nBox Cox (λ = %6.4f)' % bc.lbda)\n",
    "plt.show()"
   ]
  },
  {
   "cell_type": "markdown",
   "metadata": {},
   "source": [
    "##### Fitting models to the data:"
   ]
  },
  {
   "cell_type": "code",
   "execution_count": 134,
   "metadata": {},
   "outputs": [],
   "source": [
    "y2 = pd.DataFrame(bc.Y)[0]"
   ]
  },
  {
   "cell_type": "code",
   "execution_count": 160,
   "metadata": {},
   "outputs": [
    {
     "data": {
      "image/png": "[encoded data removed]",
      "text/plain": [
       "<Figure size 864x576 with 1 Axes>"
      ]
     },
     "metadata": {
      "needs_background": "light"
     },
     "output_type": "display_data"
    }
   ],
   "source": [
    "# adapted from https://www.statsmodels.org/dev/examples/notebooks/generated/exponential_smoothing.html\n",
    "\n",
    "fit1 = Holt(y1).fit(smoothing_level=0.8, smoothing_slope=0.2, optimized=False)\n",
    "fcast1 = fit1.forecast(12).rename(\"Holt's linear trend\")\n",
    "fit2 = Holt(y1, exponential=True).fit(smoothing_level=0.8, smoothing_slope=0.2, optimized=False)\n",
    "fcast2 = fit2.forecast(12).rename(\"Exponential trend\")\n",
    "fit3 = Holt(y1, exponential=True, damped=True).fit(smoothing_level=0.8, smoothing_slope=0.2)\n",
    "fcast3 = fit3.forecast(12).rename(\"Multiplicative damped trend\")\n",
    "\n",
    "ax = y1.plot(color=\"black\", figsize=(12,8))\n",
    "fit1.fittedvalues.plot(ax=ax, color='blue')\n",
    "fcast1.plot(ax=ax, color='blue', marker=\"o\", legend=True)\n",
    "fit2.fittedvalues.plot(ax=ax, color='red')\n",
    "fcast2.plot(ax=ax, color='red', marker=\"o\", legend=True)\n",
    "fit3.fittedvalues.plot(ax=ax, color='green')\n",
    "fcast3.plot(ax=ax, color='green', marker=\"o\", legend=True)\n",
    "\n",
    "plt.title('Tumblr Monthly Users, Worldwide\\n12-mth forecast')\n",
    "plt.show()"
   ]
  },
  {
   "cell_type": "markdown",
   "metadata": {},
   "source": [
    "![itsalive](https://media.giphy.com/media/UqUJhrD0om73q/giphy.gif)<br>\n",
    "\n",
    "<div style=\"text-align: center\"> <i>My actual reaction to the above output</i> </div>"
   ]
  },
  {
   "cell_type": "markdown",
   "metadata": {},
   "source": [
    "Let's look at the root mean squared errors (RMSE) for each of these models:"
   ]
  },
  {
   "cell_type": "code",
   "execution_count": 137,
   "metadata": {},
   "outputs": [
    {
     "name": "stdout",
     "output_type": "stream",
     "text": [
      "RMSE Linear: 4958041.49\n",
      "RMSE Exponential: 5399986.27\n",
      "RMSE Multiplicative Damped: 4880251.54\n"
     ]
    }
   ],
   "source": [
    "from sklearn.metrics import mean_squared_error\n",
    "\n",
    "rmse1 = sqrt(mean_squared_error(fit1.fittedvalues, y1))\n",
    "rmse2 = sqrt(mean_squared_error(fit2.fittedvalues, y1))\n",
    "rmse3 = sqrt(mean_squared_error(fit3.fittedvalues, y1))\n",
    "print('RMSE Linear: %.2f' % rmse1)\n",
    "print('RMSE Exponential: %.2f' % rmse2)\n",
    "print('RMSE Multiplicative Damped: %.2f' % rmse3)"
   ]
  },
  {
   "cell_type": "markdown",
   "metadata": {},
   "source": [
    "After comparing the RMSE across the 3 models, the Multiplicative Damped Trend Model gave us the lowest RMSE, indicating that this model fitted our data best. Downstream, we will use this model to estimate cash flows."
   ]
  },
  {
   "cell_type": "markdown",
   "metadata": {},
   "source": [
    "__Q4 Cloudy with a Chance of Diminishing Returns__"
   ]
  },
  {
   "cell_type": "code",
   "execution_count": 261,
   "metadata": {},
   "outputs": [
    {
     "data": {
      "image/png": "[encoded data removed]",
      "text/plain": [
       "<Figure size 864x576 with 1 Axes>"
      ]
     },
     "metadata": {
      "needs_background": "light"
     },
     "output_type": "display_data"
    }
   ],
   "source": [
    "fit1 = Holt(y2).fit(smoothing_level=0.8, smoothing_slope=0.2, optimized=False)\n",
    "fcast1 = fit1.forecast(115).rename(\"Holt's linear trend\")\n",
    "fit2 = Holt(y2, exponential=True).fit(smoothing_level=0.8, smoothing_slope=0.2, optimized=False)\n",
    "fcast2 = fit2.forecast(115).rename(\"Exponential trend\")\n",
    "fit3 = Holt(y2, exponential=False, damped=True).fit(smoothing_level=0.8, smoothing_slope=0.2)\n",
    "fcast3 = fit3.forecast(115).rename(\"Multiplicative damped trend\")\n",
    "\n",
    "ax = y2.plot(color=\"black\", figsize=(12,8))\n",
    "fit1.fittedvalues.plot(ax=ax, color='blue')\n",
    "fcast1.plot(ax=ax, color='blue', marker=\"o\", legend=True)\n",
    "fit2.fittedvalues.plot(ax=ax, color='red')\n",
    "fcast2.plot(ax=ax, color='red', marker=\"o\", legend=True)\n",
    "fit3.fittedvalues.plot(ax=ax, color='green')\n",
    "fcast3.plot(ax=ax, color='green', marker=\"o\", legend=True)\n",
    "\n",
    "plt.title('Tumblr Monthly Users, Worldwide\\n115-mth forecast')\n",
    "plt.show()"
   ]
  },
  {
   "cell_type": "markdown",
   "metadata": {},
   "source": [
    "Outstanding. Why didn't they teach us this math in high school?\n",
    "\n",
    "![Wow](https://media.giphy.com/media/BmmfETghGOPrW/giphy.gif)<br>\n",
    "\n",
    "<div style=\"text-align: center\"> <i>My brain when I ran the cell above</i> </div>"
   ]
  },
  {
   "cell_type": "markdown",
   "metadata": {},
   "source": [
    "Since we applied a BoxCox transformation to our data, we'll have to first undo the transformation to retrieve the forecasts for the next 115 months."
   ]
  },
  {
   "cell_type": "markdown",
   "metadata": {},
   "source": [
    "__Q5 Money matters__"
   ]
  },
  {
   "cell_type": "code",
   "execution_count": null,
   "metadata": {},
   "outputs": [],
   "source": [
    "(list(y1)[-1] / list(y1)[-13]) ** (1/12) - 1"
   ]
  },
  {
   "cell_type": "code",
   "execution_count": 164,
   "metadata": {},
   "outputs": [],
   "source": [
    "'''\n",
    "Arguments: annual cash flows, no. of periods, anualized rate of return\n",
    "\n",
    "Where used: Here, and only here\n",
    "\n",
    "Output: scalar value of discounted cash flow valuation\n",
    "'''\n",
    "def dcf(cash_flows, periods, rate):\n",
    "    assert type(periods) == int\n",
    "    assert type(rate) == float\n",
    "    assert len(cash_flows) == periods\n",
    "    try:\n",
    "        dcf = 0\n",
    "        yr = 0\n",
    "        for i in range(len(cash_flows)):\n",
    "            dcf = cash_flows[i] / ((1 + rate) ** i+1)\n",
    "        return dcf\n",
    "    except:\n",
    "        print('DCF calculation failure.')"
   ]
  },
  {
   "cell_type": "code",
   "execution_count": 165,
   "metadata": {},
   "outputs": [],
   "source": [
    "ww_growth = 0.0152\n",
    "us_decline = 0.0167\n",
    "p2u_equiv = 2.0\n",
    "us_rue_inc = 0.30\n",
    "ww_rue_inc = 0.03\n",
    "cash_margin = 0.317\n",
    "eng_mult = 4.5\n",
    "r = 0.1\n",
    "g = 0.03"
   ]
  },
  {
   "cell_type": "code",
   "execution_count": 235,
   "metadata": {},
   "outputs": [],
   "source": [
    "fcast = round(fcast3,0).reset_index(drop = True)"
   ]
  },
  {
   "cell_type": "code",
   "execution_count": 166,
   "metadata": {},
   "outputs": [],
   "source": [
    "fcast = fcast3.reset_index(drop = True)"
   ]
  },
  {
   "cell_type": "code",
   "execution_count": 236,
   "metadata": {},
   "outputs": [
    {
     "data": {
      "text/plain": [
       "138392434.0"
      ]
     },
     "execution_count": 236,
     "metadata": {},
     "output_type": "execute_result"
    }
   ],
   "source": [
    "fcast.iloc[-1,]"
   ]
  },
  {
   "cell_type": "markdown",
   "metadata": {},
   "source": [
    "Custom script to create year range"
   ]
  },
  {
   "cell_type": "code",
   "execution_count": 237,
   "metadata": {},
   "outputs": [],
   "source": [
    "years = []\n",
    "start_yr = 2013\n",
    "end_yr = 2022\n",
    "ranj = end_yr - start_yr\n",
    "for i in range(len(fcast)):\n",
    "    if start_yr == end_yr:\n",
    "        continue\n",
    "    if i < 7:\n",
    "        years.append(start_yr)\n",
    "    else:\n",
    "        for j in range(12):\n",
    "            years.append(start_yr+1)\n",
    "        start_yr += 1"
   ]
  },
  {
   "cell_type": "code",
   "execution_count": 238,
   "metadata": {},
   "outputs": [],
   "source": [
    "ppl_ww_fcast = pd.concat([fcast,pd.Series(years)], axis = 1).rename(columns = {'Additive damped trend' : 'Users',\n",
    "                                                                               0 : 'Year'})"
   ]
  },
  {
   "cell_type": "code",
   "execution_count": 239,
   "metadata": {},
   "outputs": [],
   "source": [
    "tbl = ppl_ww_fcast.groupby('Year').mean().reset_index(drop = False).copy()"
   ]
  },
  {
   "cell_type": "code",
   "execution_count": 243,
   "metadata": {},
   "outputs": [],
   "source": [
    "tbl['Multiplicative damped trend'] = tbl['Multiplicative damped trend'].astype('int')"
   ]
  },
  {
   "cell_type": "code",
   "execution_count": 175,
   "metadata": {
    "scrolled": true
   },
   "outputs": [
    {
     "name": "stdout",
     "output_type": "stream",
     "text": [
      "40296711.42660536\n"
     ]
    }
   ],
   "source": [
    "ww13 = np.mean(fcast[:7])\n",
    "pct_us = 0.33\n",
    "us_ppl = pct_us * ww13\n",
    "row_ppl = ww13 - us_ppl\n",
    "ue_us = us_ppl / p2u_equiv\n",
    "ue_row = row_ppl / p2u_equiv\n",
    "revenue = (ue_us * 13.58 + ue_row * 3.21) / eng_mult * 7/12\n",
    "opex = revenue * cash_margin\n",
    "cf = revenue - opex\n",
    "print(str(cf))"
   ]
  },
  {
   "cell_type": "code",
   "execution_count": 245,
   "metadata": {},
   "outputs": [],
   "source": [
    "'''\n",
    "Things that are constant\n",
    "'''\n",
    "ww_growth = 0.0152\n",
    "us_decline = 0.0167\n",
    "p2u_equiv = 2.0\n",
    "us_rue_inc = 0.30\n",
    "row_rue_inc = 0.03\n",
    "cash_margin = 0.317\n",
    "eng_mult = 4.5\n",
    "r = 0.1\n",
    "g = 0.03"
   ]
  },
  {
   "cell_type": "code",
   "execution_count": 257,
   "metadata": {},
   "outputs": [],
   "source": [
    "ww13 = tbl.iloc[0,1]"
   ]
  },
  {
   "cell_type": "code",
   "execution_count": 258,
   "metadata": {},
   "outputs": [],
   "source": [
    "'''\n",
    "Things that change\n",
    "'''\n",
    "pct_us = 0.33\n",
    "us_ppl = pct_us * tbl.iloc[0,1]\n",
    "row_ppl = ww13 - us_ppl\n",
    "ue_us = us_ppl / p2u_equiv\n",
    "ue_row = row_ppl / p2u_equiv\n",
    "\n",
    "fb_rpu_us = 13.58\n",
    "fb_rpu_row = 3.21\n",
    "\n",
    "dcf = []\n",
    "\n",
    "for i in range(len(tbl)):\n",
    "    revenue = 0\n",
    "    opex = 0\n",
    "    cf = 0\n",
    "    \n",
    "    us_ppl = pct_us * tbl.iloc[i,1]\n",
    "    row_ppl = tbl.iloc[i,1] - us_ppl\n",
    "    ue_us = us_ppl / p2u_equiv\n",
    "    ue_row = row_ppl / p2u_equiv\n",
    "    \n",
    "    revenue = (ue_us * fb_rpu_us + ue_row * fb_rpu_row) / eng_mult\n",
    "    \n",
    "    if tbl.iloc[i,0] == 2013:\n",
    "        revenue = (ue_us * fb_rpu_us + ue_row * fb_rpu_row) / eng_mult * 7/12\n",
    "    \n",
    "    opcf = revenue * cash_margin\n",
    "    \n",
    "    if tbl.iloc[i,0] == 2022:\n",
    "        terminal = opcf * (1+g) / (r-g)\n",
    "        opcf += terminal\n",
    "        \n",
    "    pv = opcf / ((1+r) ** (i+1))\n",
    "    \n",
    "    dcf.append(pv)\n",
    "    \n",
    "    pct_us -= us_decline\n",
    "    fb_rpu_us += us_rue_inc\n",
    "    fb_rpu_row += row_rue_inc"
   ]
  },
  {
   "cell_type": "code",
   "execution_count": 204,
   "metadata": {},
   "outputs": [
    {
     "data": {
      "text/plain": [
       "878.0438329797652"
      ]
     },
     "execution_count": 204,
     "metadata": {},
     "output_type": "execute_result"
    }
   ],
   "source": [
    "(144.9267 + (144.9267 * (1+g) / (r-g))) / ((1+r) ** 10)"
   ]
  },
  {
   "cell_type": "code",
   "execution_count": 260,
   "metadata": {},
   "outputs": [
    {
     "data": {
      "text/plain": [
       "336819868.6664794"
      ]
     },
     "execution_count": 260,
     "metadata": {},
     "output_type": "execute_result"
    }
   ],
   "source": [
    "sum(dcf)"
   ]
  },
  {
   "cell_type": "markdown",
   "metadata": {},
   "source": [
    "Recall that the Yahoo! team initally acquired Tumblr at $1.1 billion. That's billions with a __B__."
   ]
  },
  {
   "cell_type": "markdown",
   "metadata": {},
   "source": [
    "![Jim](https://media.giphy.com/media/BQL6Sj8iXRP3O/giphy.gif)"
   ]
  },
  {
   "cell_type": "markdown",
   "metadata": {},
   "source": []
  },
  {
   "cell_type": "markdown",
   "metadata": {},
   "source": [
    "__Conclusion__"
   ]
  },
  {
   "cell_type": "markdown",
   "metadata": {},
   "source": [
    "So should Yahoo! have bought Tumblr after all? In true Tumblr GIF fashion, here's my verdict:"
   ]
  },
  {
   "cell_type": "markdown",
   "metadata": {},
   "source": [
    "![Decision](https://mondrian.mashable.com/2013%252F05%252F19%252Ff8%252Ftumblr_mn0m.0feaf.gif%252Ffit-in__1200x9600.gif?signature=S68Hf3LNEs7MPtxehff0ToYVwhw=)"
   ]
  },
  {
   "cell_type": "markdown",
   "metadata": {},
   "source": [
    "__Introducing lagged variables__"
   ]
  },
  {
   "cell_type": "markdown",
   "metadata": {},
   "source": [
    "Below is a nifty function to create lag variables very quickly:"
   ]
  },
  {
   "cell_type": "code",
   "execution_count": null,
   "metadata": {},
   "outputs": [],
   "source": [
    "def lag_variables(series, n, prefix = ''):\n",
    "    ####\n",
    "    # Input: series, n = number of lags\n",
    "    # \n",
    "    # Output: list of tuples containing lag variables\n",
    "    #\n",
    "    # Downstream: to be added into main dataframe component for \n",
    "    #             further analysis / manipulation\n",
    "    ####\n",
    "    import pandas as pd\n",
    "    assert n > 0\n",
    "    try:\n",
    "        temp_list = []\n",
    "        col_d = {}\n",
    "        for i in range(n):\n",
    "            temp_list.append(tuple(series.shift(i + 1).tolist()))\n",
    "            key = i\n",
    "            col_name = 'lag' + str(i+1)\n",
    "            \n",
    "            if len(prefix) > 0:\n",
    "                to_append = str(prefix) + '_'\n",
    "                col_name = to_append + col_name\n",
    "            \n",
    "            if key not in col_d:\n",
    "                col_d[i] = col_name\n",
    "                \n",
    "        df = pd.DataFrame(temp_list).transpose().rename(columns = col_d)\n",
    "        \n",
    "        return df\n",
    "    except:\n",
    "        print('Something went wrong when lagging variables.')\n",
    "    "
   ]
  },
  {
   "cell_type": "code",
   "execution_count": null,
   "metadata": {},
   "outputs": [],
   "source": []
  }
 ],
 "metadata": {
  "kernelspec": {
   "display_name": "Python 3",
   "language": "python",
   "name": "python3"
  },
  "language_info": {
   "codemirror_mode": {
    "name": "ipython",
    "version": 3
   },
   "file_extension": ".py",
   "mimetype": "text/x-python",
   "name": "python",
   "nbconvert_exporter": "python",
   "pygments_lexer": "ipython3",
   "version": "3.7.4"
  }
 },
 "nbformat": 4,
 "nbformat_minor": 4
}
